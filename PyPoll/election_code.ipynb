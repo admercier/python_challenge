{
 "cells": [
  {
   "cell_type": "code",
   "execution_count": 1,
   "metadata": {},
   "outputs": [],
   "source": [
    "import os\n",
    "import csv"
   ]
  },
  {
   "cell_type": "code",
   "execution_count": 78,
   "metadata": {},
   "outputs": [],
   "source": [
    "inpath = os.path.join('Resources/election_data.csv')\n",
    "outpath = os.path.join('Analysis/election_output.txt')"
   ]
  },
  {
   "cell_type": "code",
   "execution_count": 79,
   "metadata": {},
   "outputs": [
    {
     "data": {
      "text/plain": [
       "'Resources/election_data.csv'"
      ]
     },
     "execution_count": 79,
     "metadata": {},
     "output_type": "execute_result"
    }
   ],
   "source": [
    "inpath"
   ]
  },
  {
   "cell_type": "code",
   "execution_count": 80,
   "metadata": {},
   "outputs": [],
   "source": [
    "votes = 0\n",
    "cand_votes = 0\n",
    "cand_vote_d = {}\n",
    "cand_vote_per = {}\n",
    "winner = \"\"\n",
    "vote_per = {}\n",
    "\n",
    "with open(inpath,'r') as election_d:\n",
    "    csvreader = csv.reader(election_d,delimiter=',')\n",
    "    csvheader = next(csvreader)\n",
    "    \n",
    "    for row in csvreader:\n",
    "        if row[2] in cand_vote_d:\n",
    "            cand_vote_d[row[2]] += 1\n",
    "        else:\n",
    "            cand_vote_d[row[2]] = 1\n",
    "        \n",
    "        votes = votes + 1\n",
    "        winner = max(cand_vote_d, key=cand_vote_d.get) \n",
    "\n",
    "for key in cand_vote_d.keys():\n",
    "    vote_l = []\n",
    "    vote_l.append(cand_vote_d[key]/votes *100)\n",
    "    vote_l.append(cand_vote_d[key])\n",
    "    vote_per[key] = vote_l"
   ]
  },
  {
   "cell_type": "code",
   "execution_count": 81,
   "metadata": {},
   "outputs": [
    {
     "name": "stdout",
     "output_type": "stream",
     "text": [
      "Election Results\n",
      "--------------------------\n",
      "Total Votes: 1048575\n",
      "--------------------------\n",
      "Khan: 63.09353169778033% (661583)\n",
      "Correy: 19.93619912738717% (209046)\n",
      "Li: 13.957990606299026% (146360)\n",
      "O'Tooley: 3.0122785685334863% (31586)\n",
      "--------------------------\n",
      "Winner: Khan\n"
     ]
    }
   ],
   "source": [
    "print(\"Election Results\")\n",
    "print(\"--------------------------\")\n",
    "print(f\"Total Votes: {votes}\")\n",
    "print(\"--------------------------\")\n",
    "for key in vote_per:\n",
    "    print(f\"{key}: {vote_per[key][0]}% ({vote_per[key][1]})\")\n",
    "print(\"--------------------------\")\n",
    "print(f\"Winner: {winner}\")"
   ]
  },
  {
   "cell_type": "code",
   "execution_count": 82,
   "metadata": {},
   "outputs": [
    {
     "data": {
      "text/plain": [
       "'Analysis/election_output.txt'"
      ]
     },
     "execution_count": 82,
     "metadata": {},
     "output_type": "execute_result"
    }
   ],
   "source": [
    "outpath"
   ]
  },
  {
   "cell_type": "code",
   "execution_count": 83,
   "metadata": {},
   "outputs": [],
   "source": [
    "with open(outpath,'w') as txt_file:\n",
    "    txt_file.write(\"Election Results\")\n",
    "    txt_file.write(\"\\n--------------------------\")\n",
    "    txt_file.write(f\"\\nTotal Votes: {votes}\")\n",
    "    txt_file.write(\"\\n--------------------------\")\n",
    "    for key in vote_per:\n",
    "        txt_file.write(f\"\\n{key}: {vote_per[key][0]}% ({vote_per[key][1]})\")\n",
    "    txt_file.write(\"\\n--------------------------\") \n",
    "    txt_file.write(f\"\\nWinner: {winner}\")"
   ]
  },
  {
   "cell_type": "code",
   "execution_count": null,
   "metadata": {},
   "outputs": [],
   "source": []
  }
 ],
 "metadata": {
  "kernelspec": {
   "display_name": "Python 3",
   "language": "python",
   "name": "python3"
  },
  "language_info": {
   "codemirror_mode": {
    "name": "ipython",
    "version": 3
   },
   "file_extension": ".py",
   "mimetype": "text/x-python",
   "name": "python",
   "nbconvert_exporter": "python",
   "pygments_lexer": "ipython3",
   "version": "3.7.6"
  }
 },
 "nbformat": 4,
 "nbformat_minor": 4
}
