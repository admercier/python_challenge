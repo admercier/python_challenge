{
 "cells": [
  {
   "cell_type": "code",
   "execution_count": 3,
   "metadata": {},
   "outputs": [],
   "source": [
    "import os\n",
    "import csv"
   ]
  },
  {
   "cell_type": "code",
   "execution_count": 53,
   "metadata": {},
   "outputs": [],
   "source": [
    "inpath = os.path.join('Resources/budget_data.csv')\n",
    "outpath = os.path.join('Analysis/bank_outcome.txt')"
   ]
  },
  {
   "cell_type": "code",
   "execution_count": 54,
   "metadata": {},
   "outputs": [
    {
     "data": {
      "text/plain": [
       "'Resources/budget_data.csv'"
      ]
     },
     "execution_count": 54,
     "metadata": {},
     "output_type": "execute_result"
    }
   ],
   "source": [
    "inpath"
   ]
  },
  {
   "cell_type": "code",
   "execution_count": 55,
   "metadata": {},
   "outputs": [
    {
     "name": "stdout",
     "output_type": "stream",
     "text": [
      "Total Months: 86\n",
      "Total Revenue: 74638024\n",
      "Average Revenue Change: $-2315.1176470588234\n",
      "Greatest Increase in Revenue: Feb-2012 $1926159\n",
      "Greatest Decrease in Revenue: Sep-2013 $-2196167\n",
      "\n"
     ]
    }
   ],
   "source": [
    "months = 0\n",
    "revenue = 0\n",
    "old_revenue = 0\n",
    "revenue_change = 0\n",
    "\n",
    "month_l = []\n",
    "revenue_l = []\n",
    "\n",
    "max_increase = [\"\",0]\n",
    "max_decrease = [\"\",9999999999]\n",
    "\n",
    "with open(inpath) as revenue_d:\n",
    "    csvreader = csv.reader(revenue_d,delimiter=\",\")\n",
    "    csvheader = next(csvreader) \n",
    "    \n",
    "    first_row= next(csvreader)\n",
    "    months = months + 1\n",
    "    revenue = revenue + int(first_row[1])\n",
    "    old_revenue = int(first_row[1])\n",
    "    \n",
    "    for row in csvreader: \n",
    "            months = months + 1\n",
    "            revenue = revenue + int(first_row[1])  \n",
    "            revenue_change = int(row[1]) - old_revenue\n",
    "            old_revenue = int(row[1])\n",
    "            month_l = month_l + [row[0]]\n",
    "            revenue_l = revenue_l + [revenue_change]\n",
    "            \n",
    "            if (revenue_change > max_increase[1]):\n",
    "                max_increase[1] = revenue_change\n",
    "                max_increase[0] = row[0]\n",
    "            if (revenue_change < max_decrease[1]):\n",
    "                max_decrease[0] = row[0]\n",
    "                max_decrease[1] = revenue_change\n",
    "\n",
    "avg_rev = sum(revenue_l)/len(revenue_l)\n",
    "\n",
    "outcome = (f\"Total Months: {months}\\n\"\n",
    "            f\"Total Revenue: {revenue}\\n\"\n",
    "            f\"Average Revenue Change: ${avg_rev}\\n\"\n",
    "            f\"Greatest Increase in Revenue: {max_increase[0]} ${max_increase[1]}\\n\"\n",
    "            f\"Greatest Decrease in Revenue: {max_decrease[0]} ${max_decrease[1]}\\n\")\n",
    "\n",
    "print(outcome)\n",
    "            \n",
    "             \n",
    "          "
   ]
  },
  {
   "cell_type": "code",
   "execution_count": 56,
   "metadata": {},
   "outputs": [
    {
     "data": {
      "text/plain": [
       "'Analysis/bank_outcome.txt'"
      ]
     },
     "execution_count": 56,
     "metadata": {},
     "output_type": "execute_result"
    }
   ],
   "source": [
    "outpath"
   ]
  },
  {
   "cell_type": "code",
   "execution_count": 57,
   "metadata": {},
   "outputs": [],
   "source": [
    "with open(outpath,\"w\") as txt_file:\n",
    "    txt_file.write(outcome)"
   ]
  },
  {
   "cell_type": "code",
   "execution_count": null,
   "metadata": {},
   "outputs": [],
   "source": []
  }
 ],
 "metadata": {
  "kernelspec": {
   "display_name": "Python 3",
   "language": "python",
   "name": "python3"
  },
  "language_info": {
   "codemirror_mode": {
    "name": "ipython",
    "version": 3
   },
   "file_extension": ".py",
   "mimetype": "text/x-python",
   "name": "python",
   "nbconvert_exporter": "python",
   "pygments_lexer": "ipython3",
   "version": "3.7.6"
  }
 },
 "nbformat": 4,
 "nbformat_minor": 4
}
